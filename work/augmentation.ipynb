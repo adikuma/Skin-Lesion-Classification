{
 "cells": [
  {
   "cell_type": "code",
   "execution_count": 6,
   "metadata": {},
   "outputs": [
    {
     "name": "stdout",
     "output_type": "stream",
     "text": [
      "Original 'nv' class count: 6705\n"
     ]
    }
   ],
   "source": [
    "import pandas as pd\n",
    "import numpy as np\n",
    "from pathlib import Path\n",
    "\n",
    "metadata_path = 'HAM10000_metadata_paths.csv'\n",
    "metadata = pd.read_csv(metadata_path)\n",
    "nv_count = metadata[metadata['dx'] == 'nv'].shape[0]\n",
    "print(f\"Original 'nv' class count: {nv_count}\")\n",
    "\n",
    "def remove_images(metadata, diagnosis, num_to_remove):\n",
    "    nv_images = metadata[metadata['dx'] == diagnosis]\n",
    "    images_to_remove = nv_images.sample(n=num_to_remove, random_state=42)\n",
    "    updated_metadata = metadata.drop(images_to_remove.index)\n",
    "    return updated_metadata, images_to_remove\n",
    "\n",
    "updated_metadata, removed_images = remove_images(metadata, 'nv', 5000)\n",
    "updated_metadata.to_csv('cropped_metadata_paths.csv')\n"
   ]
  },
  {
   "cell_type": "code",
   "execution_count": 10,
   "metadata": {},
   "outputs": [
    {
     "data": {
      "text/plain": [
       "dx\n",
       "nv       1705\n",
       "mel      1113\n",
       "bkl      1099\n",
       "bcc       514\n",
       "akiec     327\n",
       "vasc      142\n",
       "df        115\n",
       "Name: count, dtype: int64"
      ]
     },
     "execution_count": 10,
     "metadata": {},
     "output_type": "execute_result"
    }
   ],
   "source": [
    "import pandas as pd\n",
    "import matplotlib.pyplot as plt\n",
    "\n",
    "metadata_path = 'cropped_metadata_paths.csv'\n",
    "data = pd.read_csv(metadata_path)\n",
    "data['dx'].value_counts()"
   ]
  },
  {
   "cell_type": "code",
   "execution_count": 21,
   "metadata": {},
   "outputs": [],
   "source": [
    "from imgaug import augmenters as iaa\n",
    "from skimage import io\n",
    "import pandas as pd\n",
    "import numpy as np\n",
    "import os\n",
    "import time\n",
    "\n",
    "metadata_df = pd.read_csv('cropped_metadata_paths.csv')\n",
    "\n",
    "image_counts = metadata_df['dx'].value_counts()\n",
    "max_count = image_counts.max()\n",
    "\n",
    "augmenters = {\n",
    "    'blur': iaa.Sequential([iaa.GaussianBlur(sigma=(0.0, 3.0))]),\n",
    "    'noise': iaa.Sequential([iaa.AdditiveGaussianNoise(scale=(10, 60))]),\n",
    "    'brightness': iaa.Sequential([iaa.Multiply((0.8, 1.2))]),\n",
    "    'flip': iaa.Fliplr(1.0),\n",
    "    'rotate': iaa.Affine(rotate=90),\n",
    "    'crop': iaa.Sequential([iaa.Crop(percent=(0, 0.2))]),\n",
    "    'elastic': iaa.ElasticTransformation(alpha=(0, 5.0), sigma=0.25),\n",
    "    'perspective': iaa.PerspectiveTransform(scale=(0.01, 0.15))\n",
    "}\n",
    "\n",
    "base_dir = 'augmented_images/'\n",
    "os.makedirs(base_dir, exist_ok=True)\n",
    "\n",
    "def augment_and_save(row, selected_augmenters, base_dir):\n",
    "    image = io.imread(row.image_path)\n",
    "    new_rows = []\n",
    "    for augmenter_key in selected_augmenters:\n",
    "        aug = augmenters[augmenter_key]\n",
    "        augmented_image = aug.augment_image(image)\n",
    "        new_image_name = f\"{row.image_id}_{augmenter_key}.jpg\"\n",
    "        new_image_path = os.path.join(base_dir, new_image_name)\n",
    "        io.imsave(new_image_path, augmented_image)\n",
    "        new_row = row._asdict()\n",
    "        new_row['image_path'] = new_image_path\n",
    "        new_rows.append(new_row)\n",
    "    return new_rows\n",
    "\n",
    "\n",
    "augmentation_config = {\n",
    "    'bcc': ['perspective', 'noise'],\n",
    "    'akiec': ['blur', 'noise', 'brightness'], \n",
    "    'vasc': list(augmenters.keys()), \n",
    "    'df': list(augmenters.keys()) \n",
    "}\n",
    "\n",
    "\n",
    "start_time = time.time()\n",
    "\n",
    "augmented_rows = []\n",
    "for dx_class, aug_keys in augmentation_config.items():\n",
    "    class_rows = metadata_df[metadata_df['dx'] == dx_class]\n",
    "    for row in class_rows.itertuples():\n",
    "        augmented_rows.extend(augment_and_save(row, aug_keys, base_dir))\n",
    "\n",
    "\n",
    "augmented_rows_df = pd.DataFrame(augmented_rows)\n",
    "complete_data = pd.concat([metadata_df, augmented_rows_df], ignore_index=True)\n",
    "complete_data.to_csv('balanced_HAM10000_metadata.csv', index=False)"
   ]
  },
  {
   "cell_type": "code",
   "execution_count": 22,
   "metadata": {},
   "outputs": [
    {
     "data": {
      "text/plain": [
       "dx\n",
       "nv       1705\n",
       "bcc      1542\n",
       "akiec    1308\n",
       "vasc     1278\n",
       "mel      1113\n",
       "bkl      1099\n",
       "df       1035\n",
       "Name: count, dtype: int64"
      ]
     },
     "execution_count": 22,
     "metadata": {},
     "output_type": "execute_result"
    }
   ],
   "source": [
    "import pandas as pd\n",
    "import matplotlib.pyplot as plt\n",
    "\n",
    "metadata_path = 'balanced_HAM10000_metadata.csv'\n",
    "data = pd.read_csv(metadata_path)\n",
    "data['dx'].value_counts()"
   ]
  },
  {
   "cell_type": "code",
   "execution_count": null,
   "metadata": {},
   "outputs": [],
   "source": []
  }
 ],
 "metadata": {
  "kernelspec": {
   "display_name": "Python 3",
   "language": "python",
   "name": "python3"
  },
  "language_info": {
   "codemirror_mode": {
    "name": "ipython",
    "version": 3
   },
   "file_extension": ".py",
   "mimetype": "text/x-python",
   "name": "python",
   "nbconvert_exporter": "python",
   "pygments_lexer": "ipython3",
   "version": "3.11.5"
  }
 },
 "nbformat": 4,
 "nbformat_minor": 2
}
